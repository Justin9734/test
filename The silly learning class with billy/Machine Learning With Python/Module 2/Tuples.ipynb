{
 "cells": [
  {
   "cell_type": "code",
   "execution_count": 1,
   "metadata": {},
   "outputs": [
    {
     "name": "stdout",
     "output_type": "stream",
     "text": [
      "8\n",
      "hard rock\n",
      "('hard rock', 'soft rock', 'R&B')\n",
      "('pop', 'rock')\n",
      "s\n",
      "[-5, -3, 1]\n"
     ]
    }
   ],
   "source": [
    "genres_tuple = (\"pop\", \"rock\", \"soul\", \"hard rock\", \"soft rock\", \\\n",
    "                \"R&B\", \"progressive rock\", \"disco\")\n",
    "print(len(genres_tuple))\n",
    "print(genres_tuple[3])\n",
    "print(genres_tuple[3:6])\n",
    "print(genres_tuple[0:2])\n",
    "print(genres_tuple[7][2])\n",
    "C_tuple= (-5, 1, -3)\n",
    "swag = sorted(C_tuple)\n",
    "print(swag)\n"
   ]
  }
 ],
 "metadata": {
  "kernelspec": {
   "display_name": "Python 3",
   "language": "python",
   "name": "python3"
  },
  "language_info": {
   "codemirror_mode": {
    "name": "ipython",
    "version": 3
   },
   "file_extension": ".py",
   "mimetype": "text/x-python",
   "name": "python",
   "nbconvert_exporter": "python",
   "pygments_lexer": "ipython3",
   "version": "3.12.0"
  },
  "orig_nbformat": 4
 },
 "nbformat": 4,
 "nbformat_minor": 2
}
