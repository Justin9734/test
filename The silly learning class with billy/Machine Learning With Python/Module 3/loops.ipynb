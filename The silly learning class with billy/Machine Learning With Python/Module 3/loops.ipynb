{
 "cells": [
  {
   "cell_type": "code",
   "execution_count": 8,
   "metadata": {},
   "outputs": [
    {
     "name": "stdout",
     "output_type": "stream",
     "text": [
      "-5\n",
      "-4\n",
      "-3\n",
      "-2\n",
      "-1\n",
      "0\n",
      "1\n",
      "2\n",
      "3\n",
      "4\n",
      "5\n",
      "red\n",
      "yellow\n",
      "green\n",
      "purple\n",
      "blue\n",
      "10\n",
      "9.5\n",
      "10\n",
      "8\n",
      "7.5\n",
      "6*1=6\n",
      "6*2=12\n",
      "6*3=18\n",
      "6*4=24\n",
      "6*5=30\n",
      "6*6=36\n",
      "6*7=42\n",
      "6*8=48\n",
      "6*9=54\n",
      "6*10=60\n",
      "7*1=7\n",
      "7*2=14\n",
      "7*3=21\n",
      "7*4=28\n",
      "7*5=35\n",
      "7*6=42\n",
      "7*7=49\n",
      "7*8=56\n",
      "7*9=63\n",
      "7*10=70\n"
     ]
    }
   ],
   "source": [
    "for x in range(-5, 6):\n",
    "    print(x)\n",
    "squares=['red', 'yellow', 'green', 'purple', 'blue']\n",
    "for x in squares:\n",
    "    print(x)\n",
    "PlayListRatings = [10, 9.5, 10, 8, 7.5, 5, 10, 10]\n",
    "for x in PlayListRatings:\n",
    "    if x < 6:\n",
    "        break\n",
    "    print(x)\n",
    "squares = ['orange', 'orange', 'purple', 'blue ', 'orange']\n",
    "new_squares = []\n",
    "for x in squares:\n",
    "    if x == \"orange\":\n",
    "        new_squares.append(x)\n",
    "    else:\n",
    "        break\n",
    "for x in range(1, 11):\n",
    "    print(\"6*\" + str(x) + \"=\" + str(6*x))\n",
    "for x in range(1, 11):\n",
    "    print(\"7*\" + str(x) + \"=\" + str(7*x))\n",
    "Animals = [\"lion\", \"giraffe\", \"gorilla\", \"parrots\", \"crocodile\",\"deer\", \"swan\"]\n",
    "x = 0\n",
    "while x > len(Animals):\n",
    "    if len(Animals[x]) == 7:\n",
    "        print(Animals[x])\n",
    "    x += 1"
   ]
  }
 ],
 "metadata": {
  "kernelspec": {
   "display_name": "Python 3",
   "language": "python",
   "name": "python3"
  },
  "language_info": {
   "codemirror_mode": {
    "name": "ipython",
    "version": 3
   },
   "file_extension": ".py",
   "mimetype": "text/x-python",
   "name": "python",
   "nbconvert_exporter": "python",
   "pygments_lexer": "ipython3",
   "version": "3.12.0"
  },
  "orig_nbformat": 4
 },
 "nbformat": 4,
 "nbformat_minor": 2
}
