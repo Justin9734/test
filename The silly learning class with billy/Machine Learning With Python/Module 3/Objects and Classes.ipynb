{
 "cells": [
  {
   "cell_type": "code",
   "execution_count": 1,
   "metadata": {},
   "outputs": [
    {
     "name": "stdout",
     "output_type": "stream",
     "text": [
      "200\n",
      "20\n",
      "White\n",
      "5\n"
     ]
    }
   ],
   "source": [
    "class Car(object):\n",
    "    def __init__(self, maxspeed, maxmileage, seating = 0, color = \"White\",):\n",
    "        self.maxspeed = maxspeed\n",
    "        self.maxmileage = maxmileage\n",
    "        self.color = color\n",
    "        self.seating = seating\n",
    "\n",
    "        pass\n",
    "    def updateSeats(self, num):\n",
    "        self.seating = num\n",
    "    def showstuff(self):\n",
    "        print(self.maxspeed)\n",
    "        print(self.maxmileage)\n",
    "        print(self.color)\n",
    "        print(self.seating)\n",
    "theBattleBusFromFortnite = Car(200, 20, 5)\n",
    "hotDogCar = Car(180, 25, 4)\n",
    "theBattleBusFromFortnite.showstuff()"
   ]
  }
 ],
 "metadata": {
  "kernelspec": {
   "display_name": "Python 3",
   "language": "python",
   "name": "python3"
  },
  "language_info": {
   "codemirror_mode": {
    "name": "ipython",
    "version": 3
   },
   "file_extension": ".py",
   "mimetype": "text/x-python",
   "name": "python",
   "nbconvert_exporter": "python",
   "pygments_lexer": "ipython3",
   "version": "3.12.0"
  },
  "orig_nbformat": 4
 },
 "nbformat": 4,
 "nbformat_minor": 2
}
