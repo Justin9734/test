{
 "cells": [
  {
   "cell_type": "code",
   "execution_count": 8,
   "metadata": {},
   "outputs": [
    {
     "name": "stdout",
     "output_type": "stream",
     "text": [
      "2\n"
     ]
    }
   ],
   "source": [
    "givenstring=\"Lorem ipsum dolor! diam amet, consetetur Lorem magna. sed diam nonumy eirmod tempor. diam et labore? et diam magna. et diam amet.\"\n",
    "class TextAnalyzer(object):\n",
    "    def __init__(self, text):\n",
    "        self.text = text.lower()\n",
    "        self.text = self.text.replace(\"!\",\" \")\n",
    "        self.text = self.text.replace(\",\",\" \")\n",
    "        self.text = self.text.replace(\".\",\" \")\n",
    "        self.text = self.text.replace(\"?\",\" \")\n",
    "    def freqAll(self):\n",
    "        words = self.text.split(\" \")\n",
    "        wordsdict = {}\n",
    "        for x in set(words):\n",
    "            wordsdict[x] = words.count(x)\n",
    "     \n",
    "        return wordsdict\n",
    "\n",
    "    def freqOf(self,word):\n",
    "        try:\n",
    "            return self.freqAll()[word]\n",
    "        except:\n",
    "            return 0\n",
    "\n",
    "lizer = TextAnalyzer(givenstring)\n",
    "lizer.freqAll()\n",
    "print(lizer.freqOf(\"lorem\"))"
   ]
  },
  {
   "cell_type": "code",
   "execution_count": null,
   "metadata": {},
   "outputs": [],
   "source": []
  }
 ],
 "metadata": {
  "kernelspec": {
   "display_name": "Python 3",
   "language": "python",
   "name": "python3"
  },
  "language_info": {
   "codemirror_mode": {
    "name": "ipython",
    "version": 3
   },
   "file_extension": ".py",
   "mimetype": "text/x-python",
   "name": "python",
   "nbconvert_exporter": "python",
   "pygments_lexer": "ipython3",
   "version": "3.12.0"
  },
  "orig_nbformat": 4
 },
 "nbformat": 4,
 "nbformat_minor": 2
}
