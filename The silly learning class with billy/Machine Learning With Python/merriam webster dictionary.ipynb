{
 "cells": [
  {
   "cell_type": "code",
   "execution_count": 1,
   "metadata": {},
   "outputs": [
    {
     "name": "stdout",
     "output_type": "stream",
     "text": [
      "dict_keys(['The Bodyguard', 'Saturday Night Fever'])\n",
      "dict_values(['1992', '1977'])\n",
      "65\n",
      "dict_keys(['The Bodyguard', 'Back in Black', 'Thriller'])\n",
      "dict_values([50, 50, 65])\n",
      "{'Product Name': 'Mobile phone', 'Product Quantity': 5, 'Product price': 20000, 'Product Release Year': 2020, 'Product2': 'Laptop', 'Product2_quantity': 10, 'Product2_price': 50000, 'Product2_releaseYear': 2023}\n"
     ]
    }
   ],
   "source": [
    "soundtrack_dic = {\"The Bodyguard\":\"1992\", \"Saturday Night Fever\":\"1977\"}\n",
    "print(soundtrack_dic.keys())\n",
    "print(soundtrack_dic.values())\n",
    "album_sales_dict = {\"The Bodyguard\":50, \"Back in Black\":50, \"Thriller\":65}\n",
    "print(album_sales_dict[\"Thriller\"])\n",
    "print(album_sales_dict.keys())\n",
    "print(album_sales_dict.values())\n",
    "Product_Name= \"Mobile phone\"\n",
    "Product_Quantity= 5\n",
    "Product_price= 20000\n",
    "Product_Release_Year= 2020\n",
    "sigmas ={\"Product Name\":\"Mobile phone\",\n",
    "\"Product Quantity\": 5,\n",
    "\"Product price\": 20000,\n",
    "\"Product Release Year\": 2020}\n",
    "methamthetamine = \"Laptop\"\n",
    "methamthetamine_quantity = 10\n",
    "methamthetamine_price = 50000\n",
    "methamthetamine_releaseYear= 2023\n",
    "sigmas[\"Product2\"]= methamthetamine\n",
    "sigmas[\"Product2_quantity\"]= methamthetamine_quantity\n",
    "sigmas[\"Product2_price\"]= methamthetamine_price\n",
    "sigmas[\"Product2_releaseYear\"]=methamthetamine_releaseYear\n",
    "print(sigmas)\n",
    "\"Product Release Year\" in sigmas\n",
    "\"Product2_releaseYear\" in sigmas\n",
    "del(sigmas[\"Product Release Year\"])\n",
    "del(sigmas[\"Product2_releaseYear\"])\n"
   ]
  }
 ],
 "metadata": {
  "kernelspec": {
   "display_name": "Python 3",
   "language": "python",
   "name": "python3"
  },
  "language_info": {
   "codemirror_mode": {
    "name": "ipython",
    "version": 3
   },
   "file_extension": ".py",
   "mimetype": "text/x-python",
   "name": "python",
   "nbconvert_exporter": "python",
   "pygments_lexer": "ipython3",
   "version": "3.12.0"
  },
  "orig_nbformat": 4
 },
 "nbformat": 4,
 "nbformat_minor": 2
}
