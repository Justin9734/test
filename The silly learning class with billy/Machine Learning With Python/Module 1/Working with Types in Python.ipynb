{
 "cells": [
  {
   "cell_type": "code",
   "execution_count": 4,
   "metadata": {},
   "outputs": [
    {
     "name": "stdout",
     "output_type": "stream",
     "text": [
      "<class 'float'>\n",
      "<class 'int'>\n",
      "<class 'str'>\n",
      "<class 'bool'>\n",
      "1001\n",
      "1234.56\n",
      "123-456-7890\n"
     ]
    }
   ],
   "source": [
    "print(type(6/2))\n",
    "print(type(6//2))\n",
    "print(type(\"Hello, World!\") )\n",
    "print(type(\"hello\" == \"world\"))\n",
    "print(int(\"1001\"))\n",
    "print(float(\"1234.56\"))\n",
    "# we are converting a STRING to a STRING\n",
    "print(str(\"123-456-7890\"))\n"
   ]
  }
 ],
 "metadata": {
  "kernelspec": {
   "display_name": "Python 3",
   "language": "python",
   "name": "python3"
  },
  "language_info": {
   "codemirror_mode": {
    "name": "ipython",
    "version": 3
   },
   "file_extension": ".py",
   "mimetype": "text/x-python",
   "name": "python",
   "nbconvert_exporter": "python",
   "pygments_lexer": "ipython3",
   "version": "3.12.0"
  },
  "orig_nbformat": 4
 },
 "nbformat": 4,
 "nbformat_minor": 2
}
