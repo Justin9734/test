{
 "cells": [
  {
   "cell_type": "code",
   "execution_count": 2,
   "metadata": {},
   "outputs": [
    {
     "name": "stdout",
     "output_type": "stream",
     "text": [
      "12\n",
      "-5.0\n",
      "5.0\n",
      "7\n",
      "10\n",
      "17\n"
     ]
    }
   ],
   "source": [
    "#im actively going insane \n",
    "print(32+20-40)\n",
    "print((5-55)/10)\n",
    "print((6*10)/12)\n",
    "# this is actually kinda funny bc im teaching some kids python later tonight\n",
    "x = 3 + 2 * 2\n",
    "print(x)\n",
    "y = (3 + 2) * 2\n",
    "print(y)\n",
    "z = x + y\n",
    "print(z)"
   ]
  }
 ],
 "metadata": {
  "kernelspec": {
   "display_name": "Python 3",
   "language": "python",
   "name": "python3"
  },
  "language_info": {
   "codemirror_mode": {
    "name": "ipython",
    "version": 3
   },
   "file_extension": ".py",
   "mimetype": "text/x-python",
   "name": "python",
   "nbconvert_exporter": "python",
   "pygments_lexer": "ipython3",
   "version": "3.12.0"
  },
  "orig_nbformat": 4
 },
 "nbformat": 4,
 "nbformat_minor": 2
}
