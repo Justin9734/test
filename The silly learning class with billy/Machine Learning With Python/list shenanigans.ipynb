{
 "cells": [
  {
   "cell_type": "code",
   "execution_count": 1,
   "metadata": {},
   "outputs": [
    {
     "name": "stdout",
     "output_type": "stream",
     "text": [
      "hello\n",
      "['hello', [1, 2, 3], True]\n",
      "[1, 'a', 2, 1, 'd']\n",
      "Watch\n",
      "Football\n",
      "['Watch', 'Laptop', 'Shoes', 'Pen', 'Clothes', 'Football']\n",
      "['Laptop', 'Shoes']\n",
      "['Watch', 'Laptop', 'Shoes', 'Notebook', 'Football']\n"
     ]
    }
   ],
   "source": [
    "a_list = [1, \"hello\", [1,2,3], True]\n",
    "print(a_list[1])\n",
    "print(a_list[1:4])\n",
    "A = [1, 'a']\n",
    "B = [2, 1, 'd']\n",
    "print(A+B)\n",
    "shoppingforpipebombs = []\n",
    "shoppingforpipebombs.append(\"Watch\")\n",
    "shoppingforpipebombs.append(\"Laptop\")\n",
    "shoppingforpipebombs.append(\"Shoes\")\n",
    "shoppingforpipebombs.append(\"Pen\")\n",
    "shoppingforpipebombs.append(\"Clothes\")\n",
    "shoppingforpipebombs.append(\"Football\")\n",
    "print(shoppingforpipebombs[0])\n",
    "print(shoppingforpipebombs[-1])\n",
    "print(shoppingforpipebombs)\n",
    "print(shoppingforpipebombs[1:3])\n",
    "shoppingforpipebombs[3] = \"Notebook\"\n",
    "shoppingforpipebombs.pop(4)\n",
    "print(shoppingforpipebombs)"
   ]
  }
 ],
 "metadata": {
  "kernelspec": {
   "display_name": "Python 3",
   "language": "python",
   "name": "python3"
  },
  "language_info": {
   "codemirror_mode": {
    "name": "ipython",
    "version": 3
   },
   "file_extension": ".py",
   "mimetype": "text/x-python",
   "name": "python",
   "nbconvert_exporter": "python",
   "pygments_lexer": "ipython3",
   "version": "3.12.0"
  },
  "orig_nbformat": 4
 },
 "nbformat": 4,
 "nbformat_minor": 2
}
