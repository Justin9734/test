{
 "cells": [
  {
   "cell_type": "code",
   "execution_count": 2,
   "metadata": {},
   "outputs": [
    {
     "name": "stdout",
     "output_type": "stream",
     "text": [
      "hello\n",
      "['hello', [1, 2, 3], True]\n",
      "[1, 'a', 2, 1, 'd']\n",
      "Watch\n",
      "Football\n",
      "['Watch', 'Laptop', 'Shoes', 'Pen', 'Clothes', 'Football']\n",
      "['Laptop', 'Shoes']\n"
     ]
    },
    {
     "ename": "TypeError",
     "evalue": "'builtin_function_or_method' object is not subscriptable",
     "output_type": "error",
     "traceback": [
      "\u001b[0;31m---------------------------------------------------------------------------\u001b[0m",
      "\u001b[0;31mTypeError\u001b[0m                                 Traceback (most recent call last)",
      "Cell \u001b[0;32mIn[2], line 19\u001b[0m\n\u001b[1;32m     17\u001b[0m \u001b[39mprint\u001b[39m(shoppingforpipebombs[\u001b[39m1\u001b[39m:\u001b[39m3\u001b[39m])\n\u001b[1;32m     18\u001b[0m shoppingforpipebombs[\u001b[39m3\u001b[39m] \u001b[39m=\u001b[39m \u001b[39m\"\u001b[39m\u001b[39mNotebook\u001b[39m\u001b[39m\"\u001b[39m\n\u001b[0;32m---> 19\u001b[0m shoppingforpipebombs\u001b[39m.\u001b[39;49mpop[\u001b[39m4\u001b[39;49m]\n\u001b[1;32m     20\u001b[0m \u001b[39mprint\u001b[39m(Shopping_list)\n",
      "\u001b[0;31mTypeError\u001b[0m: 'builtin_function_or_method' object is not subscriptable"
     ]
    }
   ],
   "source": [
    "a_list = [1, \"hello\", [1,2,3], True]\n",
    "print(a_list[1])\n",
    "print(a_list[1:4])\n",
    "A = [1, 'a']\n",
    "B = [2, 1, 'd']\n",
    "print(A+B)\n",
    "shoppingforpipebombs = []\n",
    "shoppingforpipebombs.append(\"Watch\")\n",
    "shoppingforpipebombs.append(\"Laptop\")\n",
    "shoppingforpipebombs.append(\"Shoes\")\n",
    "shoppingforpipebombs.append(\"Pen\")\n",
    "shoppingforpipebombs.append(\"Clothes\")\n",
    "shoppingforpipebombs.append(\"Football\")\n",
    "print(shoppingforpipebombs[0])\n",
    "print(shoppingforpipebombs[-1])\n",
    "print(shoppingforpipebombs)\n",
    "print(shoppingforpipebombs[1:3])\n",
    "shoppingforpipebombs[3] = \"Notebook\"\n",
    "shoppingforpipebombs.pop(4)\n",
    "print(Shopping_list)"
   ]
  }
 ],
 "metadata": {
  "kernelspec": {
   "display_name": "Python 3",
   "language": "python",
   "name": "python3"
  },
  "language_info": {
   "codemirror_mode": {
    "name": "ipython",
    "version": 3
   },
   "file_extension": ".py",
   "mimetype": "text/x-python",
   "name": "python",
   "nbconvert_exporter": "python",
   "pygments_lexer": "ipython3",
   "version": "3.12.0"
  },
  "orig_nbformat": 4
 },
 "nbformat": 4,
 "nbformat_minor": 2
}
