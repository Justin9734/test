{
 "cells": [
  {
   "cell_type": "code",
   "execution_count": null,
   "metadata": {},
   "outputs": [],
   "source": [
    "import pandas as pd\n",
    "import numpy as np\n",
    "from bs4 import BeautifulSoup as bs\n",
    "import re\n",
    "import requests"
   ]
  },
  {
   "cell_type": "code",
   "execution_count": null,
   "metadata": {},
   "outputs": [],
   "source": [
    "URL = \"https://docs.google.com/document/d/1ENUMJn3zXDbMYK4m_UJHumhZB6Iqc6gZCa46vROa5J4/edit\"\n",
    "request = requests.get(URL)\n",
    "#print('request assigned')\n",
    "websiteHTML = bs(request.text, 'html.parser')\n",
    "htmlString = websiteHTML.prettify()\n",
    "htmlString"
   ]
  },
  {
   "cell_type": "code",
   "execution_count": null,
   "metadata": {},
   "outputs": [],
   "source": [
    "realLines = []\n",
    "for x in re.split(\"DOCS_modelChunk = \", htmlString): # find where text is in the doc\n",
    "    if x[0] == r\"[\":\n",
    "        realLines.append(x) # delete everything in the list other than the text variables\n",
    "realLines"
   ]
  },
  {
   "cell_type": "code",
   "execution_count": null,
   "metadata": {},
   "outputs": [],
   "source": [
    "# remove title\n",
    "realLines.pop(0)"
   ]
  },
  {
   "cell_type": "code",
   "execution_count": null,
   "metadata": {},
   "outputs": [],
   "source": [
    "#change the dictionaries to multiple lists to be easier to work with\n",
    "storagePlaceholder = []\n",
    "for x in realLines:\n",
    "    storagePlaceholder.append(x.split(r\":\"))\n",
    "realLines = storagePlaceholder"
   ]
  },
  {
   "cell_type": "code",
   "execution_count": 37,
   "metadata": {},
   "outputs": [
    {
     "name": "stdout",
     "output_type": "stream",
     "text": [
      "endcode\n"
     ]
    }
   ],
   "source": [
    "\n",
    "#dayToFind = input(\"What day do you want to find? \")\n",
    "\n",
    "# clean up the text, remove text modifiers\n",
    "for x in range(0, len(realLines)):\n",
    "    realLines[x].pop(0)\n",
    "    realLines[x].pop(0)\n",
    "    realLines[x].pop(0)\n",
    "    \n",
    "    for i in range(0, len(realLines[x])):\n",
    "        realLines[x][i] = realLines[x][i].replace(\"\\\\n\", \"\\n\")\n",
    "        realLines[x][i] = realLines[x][i].replace(\"\\\\u\", \"&\")\n",
    "        realLines[x][i] = realLines[x][i].replace(\"001c\", \"\")\n",
    "        realLines[x][i] = realLines[x][i].replace(\"0010\", \"\")\n",
    "        realLines[x][i] = realLines[x][i].replace(\"0011\", \"\")\n",
    "        realLines[x][i] = realLines[x][i].replace(\"0012\", \"\")\n",
    "        realLines[x][i] = realLines[x][i].replace(\")\", \"\")\n",
    "\n",
    "#for x in range(0, len(realLines)):\n",
    "#    if dayToFind in realLines[x]:\n",
    "#        foundlocation = realLines[x].find(dayToFind)\n",
    "#        print(realLines[x][foundlocation:])\n",
    "#        break\n",
    "\n",
    "#for x in realLines:\n",
    "#    print(x)\n",
    "\n"
   ]
  },
  {
   "cell_type": "code",
   "execution_count": null,
   "metadata": {},
   "outputs": [],
   "source": [
    "# do the silly shenanigans\n",
    "fusionSummon = ''\n",
    "for x in range(0, len(realLines)):\n",
    "    fusionSummon = ''\n",
    "    for i in range(0, len(realLines[x])):\n",
    "        fusionSummon += realLines[x][i]\n",
    "    realLines[x] = fusionSummon\n",
    "foundlocation = 0"
   ]
  },
  {
   "cell_type": "code",
   "execution_count": null,
   "metadata": {},
   "outputs": [],
   "source": [
    "#put into array\n",
    "finalData = np.array(realLines)\n",
    "print(\"endcode\")"
   ]
  },
  {
   "cell_type": "code",
   "execution_count": null,
   "metadata": {},
   "outputs": [],
   "source": []
  }
 ],
 "metadata": {
  "kernelspec": {
   "display_name": "Python 3",
   "language": "python",
   "name": "python3"
  },
  "language_info": {
   "codemirror_mode": {
    "name": "ipython",
    "version": 3
   },
   "file_extension": ".py",
   "mimetype": "text/x-python",
   "name": "python",
   "nbconvert_exporter": "python",
   "pygments_lexer": "ipython3",
   "version": "3.12.0"
  },
  "orig_nbformat": 4
 },
 "nbformat": 4,
 "nbformat_minor": 2
}
