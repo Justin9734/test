{
 "cells": [
  {
   "cell_type": "code",
   "execution_count": null,
   "metadata": {},
   "outputs": [],
   "source": [
    "import pandas as pd\n",
    "import numpy as np\n",
    "from bs4 import BeautifulSoup as bs\n",
    "import re\n",
    "import requests"
   ]
  },
  {
   "cell_type": "code",
   "execution_count": null,
   "metadata": {},
   "outputs": [],
   "source": [
    "URL = \"https://docs.google.com/document/d/1ENUMJn3zXDbMYK4m_UJHumhZB6Iqc6gZCa46vROa5J4/edit\"\n",
    "request = requests.get(URL)\n",
    "#print('request assigned')\n",
    "websiteHTML = bs(request, 'html.parser')\n",
    "htmlString = websiteHTML.prettify()\n"
   ]
  },
  {
   "cell_type": "code",
   "execution_count": null,
   "metadata": {},
   "outputs": [],
   "source": [
    "URL2 = \"https://docs.google.com/document/u/2/d/e/2PACX-1vQZWtC6NZmslA9Gu2FhQ-qhF9-ECNsrqYYFQYfkASHVN7ztMAEAAAIZeQQr6vlSc5oRyYeRV2A7fEbx/pub?urp=gmail_link\"\n",
    "request = requests.get(URL2)\n",
    "#print('request assigned')\n",
    "websiteHTML = bs(request.text, 'html5lib')\n",
    "htmlString2 = websiteHTML.prettify()\n",
    "print(htmlString2)\n",
    "print(\"squid games\")"
   ]
  },
  {
   "cell_type": "code",
   "execution_count": null,
   "metadata": {},
   "outputs": [],
   "source": [
    "realLines = []\n",
    "for x in re.split(\"<tbody>\", htmlString2): # find where text is in the doc\n",
    " #   if x[0] == r\" \":\n",
    "    realLines.append(x) # delete everything in the list other than the text variables\n",
    "#for x in realLines:\n",
    "    #print(x)\n",
    "\n",
    "test = {\"none\":\"none\"}\n",
    "tags = websiteHTML.find_all(\"tbody\")\n",
    "print(tags)\n",
    "for x in range(0, len(tags)):\n",
    "   \n",
    "    for children in tags[x]:\n",
    "        test[str(children.next_sibling.next_sibling.strings)] = str(children.next_sibling.next_sibling.next_sibling.strings)\n",
    "        #i stg if this works this will be wild\n",
    "print(\"\\n\")\n",
    "print(test)\n",
    "print(\"done\")\n",
    "        \n",
    "\n",
    "        \n",
    "\n"
   ]
  },
  {
   "cell_type": "code",
   "execution_count": null,
   "metadata": {},
   "outputs": [],
   "source": [
    "realLines = []\n",
    "for x in re.split(\"DOCS_modelChunk = \", htmlString): # find where text is in the doc\n",
    "    if x[0] == r\"[\":\n",
    "        realLines.append(x) # delete everything in the list other than the text variables\n",
    "realLines"
   ]
  },
  {
   "cell_type": "code",
   "execution_count": null,
   "metadata": {},
   "outputs": [],
   "source": [
    "# remove title\n",
    "realLines.pop(0)"
   ]
  },
  {
   "cell_type": "code",
   "execution_count": null,
   "metadata": {},
   "outputs": [],
   "source": [
    "#change the dictionaries to multiple lists to be easier to work with\n",
    "storagePlaceholder = []\n",
    "for x in realLines:\n",
    "    storagePlaceholder.append(x.split(r\":\"))\n",
    "realLines = storagePlaceholder\n",
    "realLines"
   ]
  },
  {
   "cell_type": "code",
   "execution_count": null,
   "metadata": {},
   "outputs": [],
   "source": [
    "\n",
    "\n",
    "\n",
    "# clean up the text, remove text modifiers\n",
    "for x in range(0, len(realLines)):\n",
    "    realLines[x].pop(0)\n",
    "    realLines[x].pop(0)\n",
    "    realLines[x].pop(0)\n",
    "    \n",
    "    for i in range(0, len(realLines[x])):\n",
    "        realLines[x][i] = realLines[x][i].replace(\"\\\\n\", \"\\n\")\n",
    "        realLines[x][i] = realLines[x][i].replace(\"\\\\u\", \"&\")\n",
    "        realLines[x][i] = realLines[x][i].replace(\"001c\", \"\")\n",
    "        realLines[x][i] = realLines[x][i].replace(\"0010\", \"\")\n",
    "        realLines[x][i] = realLines[x][i].replace(\"0011\", \"\")\n",
    "        realLines[x][i] = realLines[x][i].replace(\"0012\", \"\")\n",
    "        realLines[x][i] = realLines[x][i].replace(\")\", \"\")\n",
    "realLines\n",
    "#for x in range(0, len(realLines)):\n",
    "#    if dayToFind in realLines[x]:\n",
    "#        foundlocation = realLines[x].find(dayToFind)\n",
    "#        print(realLines[x][foundlocation:])\n",
    "#        break\n",
    "\n",
    "#for x in realLines:\n",
    "#    print(x)\n",
    "\n"
   ]
  },
  {
   "cell_type": "code",
   "execution_count": null,
   "metadata": {},
   "outputs": [],
   "source": [
    "# locate the data and the announcements, absolutely does not work\n",
    "dayToFind = input(\"What day do you want to find? \")\n",
    "fusionSummon = ''\n",
    "for x in range(0, len(realLines)):\n",
    "    fusionSummon = ''\n",
    "    for i in range(0, len(realLines[x])):\n",
    "        fusionSummon += realLines[x][i]\n",
    "    realLines[x] = fusionSummon\n",
    "foundlocation = 0"
   ]
  },
  {
   "cell_type": "code",
   "execution_count": null,
   "metadata": {},
   "outputs": [],
   "source": [
    "#put into array\n",
    "finalData = np.array(realLines)\n",
    "finalData\n",
    "print(\"endcode\")"
   ]
  },
  {
   "cell_type": "code",
   "execution_count": null,
   "metadata": {},
   "outputs": [],
   "source": []
  }
 ],
 "metadata": {
  "kernelspec": {
   "display_name": "Python 3",
   "language": "python",
   "name": "python3"
  },
  "language_info": {
   "codemirror_mode": {
    "name": "ipython",
    "version": 3
   },
   "file_extension": ".py",
   "mimetype": "text/x-python",
   "name": "python",
   "nbconvert_exporter": "python",
   "pygments_lexer": "ipython3",
   "version": "3.12.0"
  },
  "orig_nbformat": 4
 },
 "nbformat": 4,
 "nbformat_minor": 2
}
