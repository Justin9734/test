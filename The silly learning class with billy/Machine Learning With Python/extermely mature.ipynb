{
 "cells": [
  {
   "cell_type": "code",
   "execution_count": 19,
   "metadata": {},
   "outputs": [
    {
     "name": "stdout",
     "output_type": "stream",
     "text": [
      "Copy of Morning Meeting Announcements 2023-2024 - Google DocsJavaScript isn't enabled in your browser, so this file can't be opened. Enable and reload.Copy of Morning Meeting Announcements 2023-2024         ShareSign inThe version of the browser you are using is no longer supported. Please upgrade to a supported browser.DismissFileEditViewToolsHelpAccessibilityDebug\n"
     ]
    }
   ],
   "source": [
    "import pandas as pd\n",
    "from bs4 import BeautifulSoup as bs\n",
    "\n",
    "import requests\n",
    "URL = \"https://docs.google.com/document/d/1ENUMJn3zXDbMYK4m_UJHumhZB6Iqc6gZCa46vROa5J4/edit\"\n",
    "cool = requests.get(URL)\n",
    "swagger = bs(cool.text, 'html.parser')\n",
    "print(swagger.get_text())\n",
    "#print (swagger.find_all(\"/script\"))"
   ]
  }
 ],
 "metadata": {
  "kernelspec": {
   "display_name": "Python 3",
   "language": "python",
   "name": "python3"
  },
  "language_info": {
   "codemirror_mode": {
    "name": "ipython",
    "version": 3
   },
   "file_extension": ".py",
   "mimetype": "text/x-python",
   "name": "python",
   "nbconvert_exporter": "python",
   "pygments_lexer": "ipython3",
   "version": "3.12.0"
  },
  "orig_nbformat": 4
 },
 "nbformat": 4,
 "nbformat_minor": 2
}
