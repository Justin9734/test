{
 "cells": [
  {
   "cell_type": "code",
   "execution_count": 16,
   "metadata": {},
   "outputs": [
    {
     "name": "stdout",
     "output_type": "stream",
     "text": [
      "thats so cringe\n",
      "BRING OUT THE WHOLE OCEAN\n",
      "None\n",
      "thats so incredibly cringe\n"
     ]
    }
   ],
   "source": [
    "import math\n",
    "def safe_divide(a, b):  \n",
    "    try:\n",
    "        return a/b\n",
    "    except ZeroDivisionError:\n",
    "        print(\"thats so cringe\")\n",
    "    except TypeError:\n",
    "        print(\"thats so incredibly cringe\")\n",
    "safe_divide(5, 0)\n",
    "def rooted_in_facts(we_the_best_music):\n",
    "    try:\n",
    "        return math.sqrt(we_the_best_music)\n",
    "    except ValueError:\n",
    "        print(\"BRING OUT THE WHOLE OCEAN\")\n",
    "print(rooted_in_facts(-1))\n",
    "def KevinPaidMeToDoHisHomework(num):\n",
    "    \n",
    "    try:\n",
    "        e = 5 - num\n",
    "        return num/e\n",
    "    except ZeroDivisionError:\n",
    "        print(\"thats so cringe\")\n",
    "    except TypeError:\n",
    "        print(\"thats so incredibly cringe\")\n",
    "KevinPaidMeToDoHisHomework(\"WOW\")"
   ]
  }
 ],
 "metadata": {
  "kernelspec": {
   "display_name": "Python 3",
   "language": "python",
   "name": "python3"
  },
  "language_info": {
   "codemirror_mode": {
    "name": "ipython",
    "version": 3
   },
   "file_extension": ".py",
   "mimetype": "text/x-python",
   "name": "python",
   "nbconvert_exporter": "python",
   "pygments_lexer": "ipython3",
   "version": "3.12.0"
  },
  "orig_nbformat": 4
 },
 "nbformat": 4,
 "nbformat_minor": 2
}
