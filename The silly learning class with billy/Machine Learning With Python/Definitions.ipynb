{
 "cells": [
  {
   "cell_type": "code",
   "execution_count": 8,
   "metadata": {},
   "outputs": [
    {
     "name": "stdout",
     "output_type": "stream",
     "text": [
      "3\n",
      "fire in the hole\n",
      "['pipe ', ' down', 'young', 'Whippersnapper']\n",
      "4\n"
     ]
    }
   ],
   "source": [
    "def divide(a, b):\n",
    "    return a/b\n",
    "def con(a, b):\n",
    "    return(a + b)\n",
    "print(con(1, 2))\n",
    "print(con(\"fire in t\", \"he hole\"))\n",
    "print(con([\"pipe \", \" down\"], [\"young\", \"Whippersnapper\"]))\n",
    "def finding(count, check):\n",
    "    thing = 0\n",
    "    thingy = count.split()\n",
    "    for x in thingy:\n",
    "        if x.lower() == check:\n",
    "            thing += 1\n",
    "    return thing\n",
    "print(finding(\"Mary had a little lamb Little lamb, little lamb Mary had a little lamb.Its fleece was white as snow And everywhere that Mary went Mary went, Mary went Everywhere that Mary went The lamb was sure to go\", \"little\"))"
   ]
  }
 ],
 "metadata": {
  "kernelspec": {
   "display_name": "Python 3",
   "language": "python",
   "name": "python3"
  },
  "language_info": {
   "codemirror_mode": {
    "name": "ipython",
    "version": 3
   },
   "file_extension": ".py",
   "mimetype": "text/x-python",
   "name": "python",
   "nbconvert_exporter": "python",
   "pygments_lexer": "ipython3",
   "version": "3.12.0"
  },
  "orig_nbformat": 4
 },
 "nbformat": 4,
 "nbformat_minor": 2
}
