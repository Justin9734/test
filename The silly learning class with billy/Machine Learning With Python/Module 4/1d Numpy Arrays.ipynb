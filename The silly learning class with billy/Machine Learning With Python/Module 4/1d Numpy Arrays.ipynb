{
 "cells": [
  {
   "cell_type": "code",
   "execution_count": 32,
   "metadata": {},
   "outputs": [
    {
     "name": "stdout",
     "output_type": "stream",
     "text": [
      "492\n"
     ]
    },
    {
     "data": {
      "text/plain": [
       "array([1, 0, 3, 0, 5])"
      ]
     },
     "execution_count": 32,
     "metadata": {},
     "output_type": "execute_result"
    }
   ],
   "source": [
    "import numpy as nt\n",
    "a = nt.array([10, 2, 30, 40,50])\n",
    "a[1] = 20\n",
    "arr = nt.array([1, 2, 3, 4, 5, 6, 7, 8])\n",
    "arr[1:8:2]\n",
    "b = nt.array([10, 20, 30, 40, 50, 60, 70])\n",
    "b.size\n",
    "b.shape\n",
    "b.ndim\n",
    "c = nt.array([-10, 201, 43, 94, 502])\n",
    "print(str(c.max() + c.min()))\n",
    "arr1 = nt.array([10, 11, 12, 13, 14, 15])\n",
    "arr2 = nt.array([20, 21, 22, 23, 24, 25])\n",
    "nt.add(arr1, arr2)\n",
    "arr1 = nt.array([10, 20, 30, 40, 50, 60])\n",
    "arr2 = nt.array([20, 21, 22, 23, 24, 25])\n",
    "nt.subtract(arr1, arr2)\n",
    "arr1 = nt.array([10, 20, 30, 40, 50, 60])\n",
    "arr2 = nt.array([2, 1, 2, 3, 4, 5])\n",
    "nt.multiply(arr1, arr2)\n",
    "arr1 = nt.array([10, 20, 30, 40, 50, 60])\n",
    "arr2 = nt.array([3, 5, 10, 8, 2, 33])\n",
    "nt.divide(arr1, arr2)\n",
    "arr1 = nt.array([3, 5])\n",
    "arr2 = nt.array([2, 4])\n",
    "nt.dot(arr1, arr2)\n",
    "arr = nt.array([1, 2, 3, -1]) \n",
    "arr = arr + 5\n",
    "nt.linspace(5,4, num = 6)\n",
    "u = nt.array([1, 0])\n",
    "v = nt.array([0, 1])\n",
    "u - v\n",
    "z = nt.array([2, 4])\n",
    "z * (-2)\n",
    "a = nt.array([1, 2, 3, 4, 5])\n",
    "b = nt.array([1, 0, 1, 0, 1])\n",
    "a*b"
   ]
  },
  {
   "cell_type": "code",
   "execution_count": 45,
   "metadata": {},
   "outputs": [
    {
     "name": "stdout",
     "output_type": "stream",
     "text": [
      "0\n",
      "0\n",
      "1\n",
      "evens: [2 4]\n",
      "odds: [1 3 5]\n",
      "evens: [ 6  8 10]\n",
      "odds: [7 9]\n"
     ]
    },
    {
     "data": {
      "image/png": "[encoded data removed]",
      "text/plain": [
       "<Figure size 640x480 with 3 Axes>"
      ]
     },
     "metadata": {},
     "output_type": "display_data"
    }
   ],
   "source": [
    "\n",
    "import time \n",
    "import sys\n",
    "import numpy as np \n",
    "\n",
    "import matplotlib.pyplot as plt\n",
    "\n",
    "\n",
    "def Plotvec2(a,b):\n",
    "    ax = plt.axes()# to generate the full window axes\n",
    "    ax.arrow(0, 0, *a, head_width=0.05, color ='r', head_length=0.1)#Add an arrow to the  a Axes with arrow head width 0.05, color red and arrow head length 0.1\n",
    "    plt.text(*(a + 0.1), 'a')\n",
    "    ax.arrow(0, 0, *b, head_width=0.05, color ='b', head_length=0.1)#Add an arrow to the  b Axes with arrow head width 0.05, color blue and arrow head length 0.1\n",
    "    plt.text(*(b + 0.1), 'b')\n",
    "    plt.ylim(-2, 2)#set the ylim to bottom(-2), top(2)\n",
    "    plt.xlim(-2, 2)#set the xlim to left(-2), right(2)\n",
    "a = np.array([-1, 1])\n",
    "b = np.array([1, 1])\n",
    "Plotvec2(a,b)\n",
    "print(np.dot(a, b))\n",
    "a = np.array([1, 0])\n",
    "b = np.array([0, 1])\n",
    "Plotvec2(a,b)\n",
    "print(np.dot(a, b))\n",
    "a = np.array([1, 1])\n",
    "b = np.array([0, 1])\n",
    "Plotvec2(a,b)\n",
    "print(np.dot(a, b))\n",
    "# they are perpendictular (my spelling is peak)\n",
    "arr1 = np.array([1, 2, 3])\n",
    "arr2 = np.array([8, 9, 10])\n",
    "arr1 + arr2\n",
    "arr1 - arr2\n",
    "arr1 * arr2\n",
    "arr1 / arr2\n",
    "np.dot(arr1, arr2)\n",
    "arr1 = np.array([1, 2, 3, 4, 5])\n",
    "arr2 = np.array([6, 7, 8, 9, 10])\n",
    "print(\"evens:\" , arr1[1:4:2])\n",
    "print(\"odds:\" , arr1[0:5:2])\n",
    "print(\"evens:\" , arr2[0:5:2])\n",
    "print(\"odds:\" , arr2[1:5:2])"
   ]
  }
 ],
 "metadata": {
  "kernelspec": {
   "display_name": "Python 3",
   "language": "python",
   "name": "python3"
  },
  "language_info": {
   "codemirror_mode": {
    "name": "ipython",
    "version": 3
   },
   "file_extension": ".py",
   "mimetype": "text/x-python",
   "name": "python",
   "nbconvert_exporter": "python",
   "pygments_lexer": "ipython3",
   "version": "3.12.0"
  },
  "orig_nbformat": 4
 },
 "nbformat": 4,
 "nbformat_minor": 2
}
