{
 "cells": [
  {
   "cell_type": "code",
   "execution_count": 17,
   "metadata": {},
   "outputs": [
    {
     "name": "stdout",
     "output_type": "stream",
     "text": [
      "1\n",
      "2\n",
      "12\n",
      "ABC\n",
      "correct\n",
      "\\ \n",
      "YOU ARE WRONG\n",
      "you are right\n",
      "95\n",
      "Bob had a little lamb Little lamb, little lamb Bob had a little lamb Its fleece was white as snow And everywhere that Bob went Bob went, Bob went Everywhere that Bob went The lamb was sure to go\n",
      "Mary had a little lamb Little lamb. little lamb Mary had a little lamb Its fleece was white as snow And everywhere that Mary went Mary went. Mary went Everywhere that Mary went The lamb was sure to go\n",
      "['Mary', 'had', 'a', 'little', 'lamb', 'Little', 'lamb,', 'little', 'lamb', 'Mary', 'had', 'a', 'little', 'lamb', 'Its', 'fleece', 'was', 'white', 'as', 'snow', 'And', 'everywhere', 'that', 'Mary', 'went', 'Mary', 'went,', 'Mary', 'went', 'Everywhere', 'that', 'Mary', 'went', 'The', 'lamb', 'was', 'sure', 'to', 'go']\n",
      "no way its there\n",
      "The quick brown bear jumps over the lazy dog.\n",
      "['woo', 'woo', 'woo', 'woo']\n"
     ]
    }
   ],
   "source": [
    "import re\n",
    "a = \"1\"\n",
    "b = \"2\"\n",
    "c = a + b\n",
    "print(a)\n",
    "print(b)\n",
    "print(c)\n",
    "d = \"ABCDEFG\"\n",
    "print(d[:3])\n",
    "e = 'clocrkr1e1c1t'\n",
    "print(e[::2])\n",
    "print(r\"\\ \")\n",
    "f = \"You are wrong\"\n",
    "print(f.upper())\n",
    "f2=\"YOU ARE RIGHT\"\n",
    "print(f2.lower())\n",
    "g = \"Mary had a little lamb Little lamb, little lamb Mary had a little lamb \\\n",
    "Its fleece was white as snow And everywhere that Mary went Mary went, Mary went \\\n",
    "Everywhere that Mary went The lamb was sure to go\"\n",
    "print(g.find(\"snow\"))\n",
    "print(g.replace(\"Mary\", \"Bob\"))\n",
    "print(g.replace(\",\",\".\"))\n",
    "print(g.split())\n",
    "s3 = \"House number- 1105\"\n",
    "check = re.search(r\"\\d\", s3)\n",
    "if check:\n",
    "    print(\"no way its there\")\n",
    "else:\n",
    "    print(\"no\")\n",
    "str1= \"The quick brown fox jumps over the lazy dog.\"\n",
    "str1 = re.sub(\"fox\", \"bear\", str1)\n",
    "print(str1)\n",
    "str2= \"How much wood would a woodchuck chuck, if a woodchuck could chuck wood?\"\n",
    "things = re.findall(\"woo\", str2)\n",
    "print(things)"
   ]
  },
  {
   "cell_type": "code",
   "execution_count": null,
   "metadata": {},
   "outputs": [],
   "source": []
  }
 ],
 "metadata": {
  "kernelspec": {
   "display_name": "Python 3",
   "language": "python",
   "name": "python3"
  },
  "language_info": {
   "codemirror_mode": {
    "name": "ipython",
    "version": 3
   },
   "file_extension": ".py",
   "mimetype": "text/x-python",
   "name": "python",
   "nbconvert_exporter": "python",
   "pygments_lexer": "ipython3",
   "version": "3.12.0"
  },
  "orig_nbformat": 4
 },
 "nbformat": 4,
 "nbformat_minor": 2
}
