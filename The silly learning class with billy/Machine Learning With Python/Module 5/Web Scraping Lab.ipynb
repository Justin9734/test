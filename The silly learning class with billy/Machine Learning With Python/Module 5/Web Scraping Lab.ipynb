{
 "cells": [
  {
   "cell_type": "code",
   "execution_count": 1,
   "metadata": {},
   "outputs": [],
   "source": [
    "import requests\n",
    "import os \n",
    "from PIL import Image\n",
    "from IPython.display import IFrame\n",
    "path=os.path.join(os.getcwd(),'thing.txt')\n",
    "URL = \"https://cf-courses-data.s3.us.cloud-object-storage.appdomain.cloud/IBMDeveloperSkillsNetwork-PY0101EN-SkillsNetwork/labs/Module%205/data/Example1.txt\"\n",
    "\n",
    "r = requests.get(URL)\n",
    "with open(path, \"wb\") as file: #pain\n",
    "    file.write(r.content)"
   ]
  },
  {
   "cell_type": "code",
   "execution_count": 2,
   "metadata": {},
   "outputs": [
    {
     "name": "stdout",
     "output_type": "stream",
     "text": [
      "<!DOCTYPE html>\n",
      "<html>\n",
      " <head>\n",
      "  <title>\n",
      "   Page Title\n",
      "  </title>\n",
      " </head>\n",
      " <body>\n",
      "  <h3>\n",
      "   <b id=\"boldest\">\n",
      "    Lebron James\n",
      "   </b>\n",
      "  </h3>\n",
      "  <p>\n",
      "   Salary: $ 92,000,000\n",
      "  </p>\n",
      "  <h3>\n",
      "   Stephen Curry\n",
      "  </h3>\n",
      "  <p>\n",
      "   Salary: $69,000,000\n",
      "  </p>\n",
      "  <h3>\n",
      "   Kevin Durant\n",
      "  </h3>\n",
      "  <p>\n",
      "   Salary: $73,200,000\n",
      "  </p>\n",
      " </body>\n",
      "</html>\n",
      "\n",
      "<p> Salary: $69,000,000</p>\n"
     ]
    }
   ],
   "source": [
    "from bs4 import BeautifulSoup\n",
    "import requests \n",
    "html = \"<!DOCTYPE html><html><head><title>Page Title</title></head><body><h3> \\\n",
    "<b id='boldest'>Lebron James</b></h3><p> Salary: $ 92,000,000 </p> \\\n",
    "<h3>Stephen Curry</h3><p> Salary: $69,000,000</p> \\\n",
    "<h3>Kevin Durant</h3><p> Salary: $73,200,000</p></body></html>\"\n",
    "soupermariobrothers = BeautifulSoup(html, 'html5lib')\n",
    "print(soupermariobrothers.prettify())\n",
    "tag_object = soupermariobrothers.h3\n",
    "tag_child = tag_object.next_sibling\n",
    "tag_child2 = tag_child.next_sibling\n",
    "sibling = tag_child2.next_sibling\n",
    "print(sibling.next_sibling)\n"
   ]
  },
  {
   "cell_type": "code",
   "execution_count": 3,
   "metadata": {},
   "outputs": [
    {
     "name": "stdout",
     "output_type": "stream",
     "text": [
      "[<b id=\"boldest\">Lebron James</b>]\n"
     ]
    }
   ],
   "source": [
    "from bs4 import BeautifulSoup\n",
    "table = \"<table><tr><td id='flight'>Flight No</td><td>Launch site</td> \\\n",
    "<td>Payload mass</td></tr><tr> <td>1</td> \\\n",
    "<td><a href='https://en.wikipedia.org/wiki/Florida'>Florida<a></td> \\\n",
    "<td>300 kg</td></tr><tr><td>2</td> \\\n",
    "<td><a href='https://en.wikipedia.org/wiki/Texas'>Texas</a></td> \\\n",
    "<td>94 kg</td></tr><tr><td>3</td> \\\n",
    "<td><a href='https://en.wikipedia.org/wiki/Florida'>Florida<a> </td> \\\n",
    "<td>80 kg</td></tr></table>\"\n",
    "html = \"<!DOCTYPE html><html><head><title>Page Title</title></head><body><h3> \\\n",
    "<b id='boldest'>Lebron James</b></h3><p> Salary: $ 92,000,000 </p> \\\n",
    "<h3>Stephen Curry</h3><p> Salary: $69,000,000</p> \\\n",
    "<h3>Kevin Durant</h3><p> Salary: $73,200,000</p></body></html>\"\n",
    "table_bs = BeautifulSoup(table, 'html5lib')\n",
    "table_stuff = table_bs.find_all(\"tr\")\n",
    "first_row = table_stuff[0]\n",
    "table_bs.find_all(id=\"flight\")\n",
    "list_input = table_bs.find_all(href=\"https://en.wikipedia.org/wiki/Florida\")\n",
    "table_bs.find_all('a', href=False)\n",
    "table_bs = BeautifulSoup(html, 'html5lib')\n",
    "print(table_bs.find_all(id=\"boldest\"))\n",
    "two_tables=\"<h3>Rocket Launch </h3> \\\n",
    "<p><table class='rocket'> \\\n",
    "<tr><td>Flight No</td><td>Launch site</td><td>Payload mass</td></tr> \\\n",
    "<tr><td>1</td><td>Florida</td><td>300 kg</td></tr> \\\n",
    "<tr><td>2</td><td>Texas</td><td>94 kg</td></tr> \\\n",
    "<tr><td>3</td><td>Florida </td><td>80 kg</td></tr></table></p>\\\n",
    "<p><h3>Pizza Party</h3> \\\n",
    "<table class='pizza'> \\\n",
    "<tr><td>Pizza Place</td><td>Orders</td><td>Slices </td></tr> \\\n",
    "<tr><td>Domino's Pizza</td><td>10</td><td>100</td></tr> \\\n",
    "<tr><td>Little Caesars</td><td>12</td><td >144 </td></tr> \\\n",
    "<tr><td>Papa John's</td><td>15 </td><td>165</td></tr>\"\n",
    "two_tables_bs = BeautifulSoup(two_tables, 'html.parser')"
   ]
  }
 ],
 "metadata": {
  "kernelspec": {
   "display_name": "Python 3",
   "language": "python",
   "name": "python3"
  },
  "language_info": {
   "codemirror_mode": {
    "name": "ipython",
    "version": 3
   },
   "file_extension": ".py",
   "mimetype": "text/x-python",
   "name": "python",
   "nbconvert_exporter": "python",
   "pygments_lexer": "ipython3",
   "version": "3.12.0"
  },
  "orig_nbformat": 4
 },
 "nbformat": 4,
 "nbformat_minor": 2
}
