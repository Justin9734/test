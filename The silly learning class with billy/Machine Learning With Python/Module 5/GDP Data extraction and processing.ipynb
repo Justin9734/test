{
 "cells": [
  {
   "cell_type": "code",
   "execution_count": 4,
   "metadata": {},
   "outputs": [
    {
     "name": "stdout",
     "output_type": "stream",
     "text": [
      "106.8076923076923\n",
      "102.96428571428571\n"
     ]
    }
   ],
   "source": [
    "import requests\n",
    "import pandas as pd\n",
    "import matplotlib.pyplot as plt\n",
    "filename = \"https://s3-api.us-geo.objectstorage.softlayer.net/cf-courses-data/CognitiveClass/PY0101EN/Chapter%205/Labs/Golden_State.pkl\"\n",
    "\n",
    "def download(url, filename):\n",
    "    response = requests.get(url)\n",
    "    if response.status_code == 200:\n",
    "        with open(filename, \"wb\") as f:\n",
    "            f.write(response.content)\n",
    "\n",
    "download(filename, \"Golden_State.pkl\")\n",
    "file_name = \"Golden_State.pkl\"\n",
    "games = pd.read_pickle(file_name)\n",
    "games.head()\n",
    "games_home=games[games['MATCHUP']=='GSW vs. TOR']\n",
    "games_away=games[games['MATCHUP']=='GSW @ TOR']\n",
    "print(games_home['PTS'].mean())\n",
    "print(games_away['PTS'].mean())"
   ]
  },
  {
   "cell_type": "code",
   "execution_count": 36,
   "metadata": {},
   "outputs": [
    {
     "name": "stdout",
     "output_type": "stream",
     "text": [
      "           Country GDP (Million USD)\n",
      "1    United States          28781083\n",
      "2            China          18532633\n",
      "3          Germany           4591100\n",
      "4            Japan           4110452\n",
      "5            India           3937011\n",
      "6   United Kingdom           3495261\n",
      "7           France           3130014\n",
      "8           Brazil           2331391\n",
      "9            Italy           2328028\n",
      "10          Canada           2242182\n"
     ]
    }
   ],
   "source": [
    "import numpy as np\n",
    "import pandas as pd\n",
    "import requests\n",
    "def warn(*args, **kwargs):\n",
    "    pass\n",
    "import warnings\n",
    "warnings.warn = warn\n",
    "warnings.filterwarnings('ignore')\n",
    "URL=\"https://en.wikipedia.org/wiki/List_of_countries_by_GDP_%28nominal%29\"\n",
    "#response = pd.read_html(URL, header = None)\n",
    "\n",
    "#response = requests.get(URL, verify=False)\n",
    "#response = response.content\n",
    "with open(\"List of countries by GDP (nominal) - Wikipedia.html\", \"r\") as f:\n",
    "    dfs = pd.read_html(f.read())\n",
    "\n",
    "dataframe = dfs[2]\n",
    "\n",
    "dataframe.columns = range(dataframe.shape[1])\n",
    "dataframe = dataframe[[0, 2]]\n",
    "dataframe = dataframe.iloc[1:11, :]\n",
    "\n",
    "dataframe.columns = [\"Country\", \"GDP (Million USD)\"]\n",
    "print(dataframe)\n",
    "\n",
    "\n",
    "\n"
   ]
  }
 ],
 "metadata": {
  "kernelspec": {
   "display_name": "Python 3",
   "language": "python",
   "name": "python3"
  },
  "language_info": {
   "codemirror_mode": {
    "name": "ipython",
    "version": 3
   },
   "file_extension": ".py",
   "mimetype": "text/x-python",
   "name": "python",
   "nbconvert_exporter": "python",
   "pygments_lexer": "ipython3",
   "version": "3.12.0"
  },
  "orig_nbformat": 4
 },
 "nbformat": 4,
 "nbformat_minor": 2
}
