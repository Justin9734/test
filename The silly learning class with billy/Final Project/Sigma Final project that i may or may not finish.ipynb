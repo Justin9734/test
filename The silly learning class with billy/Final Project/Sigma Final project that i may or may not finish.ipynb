{
 "cells": [
  {
   "cell_type": "code",
   "execution_count": 10,
   "metadata": {},
   "outputs": [
    {
     "name": "stdout",
     "output_type": "stream",
     "text": [
      "Empty DataFrame\n",
      "Columns: [dexnum, name, generation, type1, type2, species, height, weight, ability1, ability2, hidden_ability, hp, attack, defense, sp_atk, sp_def, speed, total, ev_yield, catch_rate, base_friendship, base_exp, growth_rate, egg_group1, egg_group2, percent_male, percent_female, egg_cycles, special_group]\n",
      "Index: []\n",
      "\n",
      "[0 rows x 29 columns]\n"
     ]
    }
   ],
   "source": [
    "# the plan is simple\n",
    "# mew and looksmaxx\n",
    "# take into account all factors of a pokemon (except name, weight, height)\n",
    "# then predict the type\n",
    "# THEN\n",
    "# i have no idea what model to use BUT\n",
    "# we test accuracy using newer gen pokemon\n",
    "# final update: did NOT do much of this lmao\n",
    "\n",
    "#Import stuff and read our data set\n",
    "import pandas as pd\n",
    "from sklearn import preprocessing\n",
    "import numpy as np\n",
    "raw_data = pd.read_csv('pokemon_data.csv')\n",
    "print(raw_data.head(0))"
   ]
  },
  {
   "cell_type": "code",
   "execution_count": 11,
   "metadata": {},
   "outputs": [
    {
     "name": "stdout",
     "output_type": "stream",
     "text": [
      "     type1  hp  attack  defense  sp_atk  sp_def  speed\n",
      "3     Fire  39      52       43      60      50     65\n",
      "4     Fire  58      64       58      80      65     80\n",
      "6    Water  44      48       65      50      64     43\n",
      "7    Water  59      63       80      65      80     58\n",
      "8    Water  79      83      100      85     105     78\n",
      "9      Bug  45      30       35      20      20     45\n",
      "10     Bug  50      20       55      25      25     30\n",
      "18  Normal  30      56       35      25      35     72\n",
      "19  Normal  55      81       60      50      70     97\n",
      "22  Poison  35      60       44      40      54     55\n"
     ]
    }
   ],
   "source": [
    "# so what we do here is get RID of all the cringe stuff that has no effect (i think) on typings WE DO NOT TALK ABOUT ABILITYS NUH UH I AINT MAKING A DICTIONARY\n",
    "# we also remove all the pokmeon that have more than 1 type becasue for the purposes of this thing they dont exist \n",
    "overwrite_data = raw_data\n",
    "overwrite_data= overwrite_data[[\"type1\", \"type2\", #\"ability1\", \"ability2\",\n",
    "                                 \"hp\", \"attack\", \"defense\", \"sp_atk\", \"sp_def\", \"speed\"]] # remove abilities :(\n",
    "\n",
    "raw_data = overwrite_data\n",
    "overwrite_data = overwrite_data[overwrite_data['type2'].isna()] # here we get rid off all pokemon that have 2 types, \n",
    "                                                                #bc we only doing pokemon with 1 type\n",
    "overwrite_data= overwrite_data[[\"type1\", #\"ability1\", \"ability2\",\n",
    "                                 \"hp\", \"attack\", \"defense\", \"sp_atk\", \"sp_def\", \"speed\"]] # remove the type2 collum\n",
    "raw_data = overwrite_data\n",
    "\n",
    "print(raw_data.head(10))\n"
   ]
  },
  {
   "cell_type": "code",
   "execution_count": 12,
   "metadata": {},
   "outputs": [
    {
     "name": "stdout",
     "output_type": "stream",
     "text": [
      "    type1  hp  attack  defense  sp_atk  sp_def  speed\n",
      "3       9  39      52       43      60      50     65\n",
      "4       9  58      64       58      80      65     80\n",
      "6      10  44      48       65      50      64     43\n",
      "7      10  59      63       80      65      80     58\n",
      "8      10  79      83      100      85     105     78\n",
      "9       6  45      30       35      20      20     45\n",
      "10      6  50      20       55      25      25     30\n",
      "18      0  30      56       35      25      35     72\n",
      "19      0  55      81       60      50      70     97\n",
      "22      3  35      60       44      40      54     55\n",
      "3        9\n",
      "4        9\n",
      "6       10\n",
      "7       10\n",
      "8       10\n",
      "        ..\n",
      "976     10\n",
      "981      0\n",
      "998      7\n",
      "1016    11\n",
      "1023     0\n",
      "Name: type1, Length: 499, dtype: int64\n"
     ]
    },
    {
     "name": "stderr",
     "output_type": "stream",
     "text": [
      "/var/folders/dh/vvmqj_jj3f77xdfpf21vgmgh0000gp/T/ipykernel_4535/3780139720.py:12: FutureWarning: Downcasting behavior in `replace` is deprecated and will be removed in a future version. To retain the old behavior, explicitly call `result.infer_objects(copy=False)`. To opt-in to the future behavior, set `pd.set_option('future.no_silent_downcasting', True)`\n",
      "  raw_data = raw_data.replace(to_replace=good_typenumbers)\n",
      "/var/folders/dh/vvmqj_jj3f77xdfpf21vgmgh0000gp/T/ipykernel_4535/3780139720.py:13: FutureWarning: Downcasting behavior in `replace` is deprecated and will be removed in a future version. To retain the old behavior, explicitly call `result.infer_objects(copy=False)`. To opt-in to the future behavior, set `pd.set_option('future.no_silent_downcasting', True)`\n",
      "  Y = Y.replace(to_replace=good_typenumbers) # swap out the string of types with the number types\n"
     ]
    }
   ],
   "source": [
    "#NOW what we do is define X and Y, Y is what we are predicting\n",
    "#also in this cell we set up the thing that converts types to numbers and vice versa\n",
    "Y = raw_data[[\"type1\"]]\n",
    "Y = Y.pop(\"type1\") # get RID of the title \n",
    "\n",
    "# okie now we turn types into numbers\n",
    "# set up thingy for later zzz\n",
    "typenumbers = {0:\"Normal\", 1:\"Fighting\", 2:\"Flying\", 3:\"Poison\", 4:\"Ground\", 5:\"Rock\", 6:\"Bug\", 7:\"Ghost\", 8:\"Steel\", 9:\"Fire\", 10:\"Water\", 11:\"Grass\", \n",
    "               12:\"Electric\", 13:\"Psychic\", 14:\"Ice\", 15:\"Dragon\", 16:\"Dark\", 17:\"Fairy\"} # for converting typings to numbers\n",
    "good_typenumbers = {v: k for k, v in typenumbers.items()} # i REALLY dont want to rewrite the previous line\n",
    "\n",
    "raw_data = raw_data.replace(to_replace=good_typenumbers)\n",
    "Y = Y.replace(to_replace=good_typenumbers) # swap out the string of types with the number types\n",
    "\n",
    "print(raw_data.head(10))\n",
    "print(Y)\n",
    "raw_data = raw_data[[#\"type1\", #\"ability1\", \"ability2\",\n",
    "                                 \"hp\", \"attack\", \"defense\", \"sp_atk\", \"sp_def\", \"speed\"]] # finally, we have our X, we ofc leave out type1 so it dosent already have the answers haha who would do that def not me no i would never trust on sigma\n",
    "from sklearn import preprocessing\n",
    "#raw_data = preprocessing.StandardScaler().fit(raw_data).transform(raw_data) for some reason leaving this out makes the model more accuate?"
   ]
  },
  {
   "cell_type": "code",
   "execution_count": 13,
   "metadata": {},
   "outputs": [
    {
     "name": "stdout",
     "output_type": "stream",
     "text": [
      "X_train.shape= (349, 6) Y_train.shape= (349,)\n",
      "     hp  attack  defense  sp_atk  sp_def  speed\n",
      "509  64      88       50      88      50    106\n",
      "284  60      40       60      40      60     35\n",
      "352  44      75       35      63      33     45\n",
      "581  36      50       50      65      60     44\n",
      "100  60      50       70      80      80    150\n",
      "..   ..     ...      ...     ...     ...    ...\n",
      "820  38      47       35      33      35     57\n",
      "32   61      72       57      55      55     65\n",
      "830  42      40       55      40      45     48\n",
      "561  38      30       85      55      65     30\n",
      "534  50      50       40      50      40     64\n",
      "\n",
      "[150 rows x 6 columns]\n"
     ]
    }
   ],
   "source": [
    "#we make the test set YIPEEE\n",
    "\n",
    "from sklearn.model_selection import train_test_split\n",
    "trainX, testX, trainY, testY = train_test_split(raw_data, Y, train_size = 0.7, random_state=12345)\n",
    "print('X_train.shape=', trainX.shape, 'Y_train.shape=', trainY.shape)\n",
    "print(testX)\n"
   ]
  },
  {
   "cell_type": "code",
   "execution_count": 14,
   "metadata": {},
   "outputs": [],
   "source": [
    "# basically IGNORE ALL OF THIS this cell is now just importing the model from sklearn and the inaccuracy things and me going on a random rant\n",
    "\n",
    "\n",
    "\n",
    "\n",
    "\n",
    "# oh boy oh boy probabilities i do love probabilities asdljfhas;ldjfhasdlfjhasdfl;kjahsdflkjahsdflkjahsdflkajhsdf\n",
    "# getting ready for softmaxxing\n",
    "# NVM this is easy if sklearn works\n",
    "\n",
    "# Update: this is so cringe, sklearn is not doing what i want it to do :(\n",
    "# I sorta wanna do it by myself but idk if i have time\n",
    "# to understand: Sklearn only likes numbers which is kinda cringe, which it really dosent need to\n",
    "# Like lets say the ability is blaze, it should see that the main type is fire type, so when checking new data, it is more likely to be a fire type\n",
    "# sklearn says nuh uh its gotta be numbers but that just dosent work\n",
    "# also why do the predicted classes have to be numbers\n",
    "# so cringe smh\n",
    "from sklearn.svm import SVC\n",
    "#from sklearn.linear_model import LogisticRegression\n",
    "#from sklearn.metrics import accuracy_score\n",
    "#from sklearn.metrics import mean_squared_error\n",
    "#from sklearn.metrics import f1_score\n",
    "from sklearn.metrics import classification_report\n",
    "#scale = preprocessing.StandardScaler().fit(raw_data)\n",
    "#scaled_data = scale.transform(raw_data)\n",
    "#lr = LogisticRegression(random_state=0, max_iter=1000).fit(scaled_data, Y)\n",
    "#probability=lr.predict_proba(raw_data)\n",
    "\n"
   ]
  },
  {
   "cell_type": "code",
   "execution_count": 15,
   "metadata": {},
   "outputs": [],
   "source": [
    "# warnings are for YAPPERS\n",
    "# here we create the model yea\n",
    "\n",
    "peak_model = SVC(kernel = \"linear\", gamma = 0.5, probability = True)\n",
    "peak_model.fit(raw_data, Y) # ok i know i shouldnt do this with datasets in general but like i have so little to work with here\n",
    "# like i would estimate around 500 data points maybe less (i googled bc im bored and its 459)? and when doing a normal train split it sometimes gets very VERY innacurate with some seeds\n",
    "# its also working so much better than than i thought it would with actual testing so yea :D (like the thing at the end)\n",
    "yhat = peak_model.predict(testX) \n",
    "\n",
    "#that was a lot eaisier than i thought i would be\n",
    "\n"
   ]
  },
  {
   "cell_type": "code",
   "execution_count": 19,
   "metadata": {},
   "outputs": [
    {
     "name": "stdout",
     "output_type": "stream",
     "text": [
      "              precision    recall  f1-score   support\n",
      "\n",
      "           0       0.37      0.68      0.48        19\n",
      "           1       0.41      0.58      0.48        12\n",
      "           2       0.00      0.00      0.00         2\n",
      "           3       0.00      0.00      0.00         4\n",
      "           4       0.50      1.00      0.67         2\n",
      "           5       1.00      0.60      0.75         5\n",
      "           6       0.75      0.38      0.50         8\n",
      "           7       1.00      0.40      0.57         5\n",
      "           9       0.20      0.10      0.13        10\n",
      "          10       0.24      0.62      0.35        24\n",
      "          11       0.00      0.00      0.00        16\n",
      "          12       0.33      0.07      0.12        14\n",
      "          13       0.17      0.29      0.21         7\n",
      "          14       0.00      0.00      0.00         5\n",
      "          15       1.00      0.50      0.67         4\n",
      "          16       0.00      0.00      0.00         3\n",
      "          17       1.00      0.10      0.18        10\n",
      "\n",
      "    accuracy                           0.35       150\n",
      "   macro avg       0.41      0.31      0.30       150\n",
      "weighted avg       0.38      0.35      0.29       150\n",
      "\n",
      "Coeficients: [ 0.06134068 -0.08258281 -0.03242909  0.04270846  0.04256706  0.01845665]\n"
     ]
    },
    {
     "name": "stderr",
     "output_type": "stream",
     "text": [
      "/Library/Frameworks/Python.framework/Versions/3.12/lib/python3.12/site-packages/sklearn/metrics/_classification.py:1509: UndefinedMetricWarning: Precision is ill-defined and being set to 0.0 in labels with no predicted samples. Use `zero_division` parameter to control this behavior.\n",
      "  _warn_prf(average, modifier, f\"{metric.capitalize()} is\", len(result))\n",
      "/Library/Frameworks/Python.framework/Versions/3.12/lib/python3.12/site-packages/sklearn/metrics/_classification.py:1509: UndefinedMetricWarning: Precision is ill-defined and being set to 0.0 in labels with no predicted samples. Use `zero_division` parameter to control this behavior.\n",
      "  _warn_prf(average, modifier, f\"{metric.capitalize()} is\", len(result))\n",
      "/Library/Frameworks/Python.framework/Versions/3.12/lib/python3.12/site-packages/sklearn/metrics/_classification.py:1509: UndefinedMetricWarning: Precision is ill-defined and being set to 0.0 in labels with no predicted samples. Use `zero_division` parameter to control this behavior.\n",
      "  _warn_prf(average, modifier, f\"{metric.capitalize()} is\", len(result))\n"
     ]
    }
   ],
   "source": [
    "# accuracy/coef\n",
    "print(classification_report(testY, yhat))\n",
    "print(\"Coeficients: %s\" % (peak_model.coef_[0]))"
   ]
  },
  {
   "cell_type": "code",
   "execution_count": 17,
   "metadata": {},
   "outputs": [
    {
     "name": "stdout",
     "output_type": "stream",
     "text": [
      "This is the swag pokemon generator\n",
      "its pretty hip and cool yk\n",
      "this is only based on stats bc sklearn is kinda silly or i am just unable to find the exact thing i want and i dont have time to code the actual thing i want\n"
     ]
    }
   ],
   "source": [
    "# the prints explain themselves\n",
    "print(\"This is the swag pokemon generator, input stats and the model will predict the type\")\n",
    "print(\"its pretty hip and cool yk\")\n",
    "print(\"this is only based on stats bc sklearn is kinda silly or i am just unable to find the exact thing i want and i dont have time to code the actual thing i want\")\n",
    "hp = input(\"hp: \")\n",
    "atk = input(\"attack: \")\n",
    "defe = input(\"defense: \")\n",
    "spatk = input(\"special attack: \")\n",
    "spdefe = input(\"special defence: \")\n",
    "speed = input(\"speed: \")\n",
    "\n"
   ]
  },
  {
   "cell_type": "code",
   "execution_count": 18,
   "metadata": {},
   "outputs": [
    {
     "name": "stdout",
     "output_type": "stream",
     "text": [
      "A pokemon with 500 hp, 10 attack, 10 defence, 10 special attack, 10 special defence, and 10 speed has a predicted type of:\n",
      "Normal\n"
     ]
    },
    {
     "name": "stderr",
     "output_type": "stream",
     "text": [
      "/Library/Frameworks/Python.framework/Versions/3.12/lib/python3.12/site-packages/sklearn/base.py:493: UserWarning: X does not have valid feature names, but SVC was fitted with feature names\n",
      "  warnings.warn(\n"
     ]
    }
   ],
   "source": [
    "# FINALLY we get the input from before, use our model to make a guess, and print that to the console pretty much\n",
    "\n",
    "newpokemonlist = np.array([hp, atk, defe, spatk, spdefe, speed]) # make a new data row(?) with our input variables\n",
    "newpokemonlist = newpokemonlist.reshape(1, -1) # make sklearn happy, it dosent like it being 1d\n",
    "#newpokemonlist = preprocessing.StandardScaler().fit(newpokemonlist).transform(newpokemonlist) once again, for some reason this mkaes it more accurate lol\n",
    "\n",
    "\n",
    "predictedtype = peak_model.predict(newpokemonlist)\n",
    "print(\"A pokemon with %s hp, %s attack, %s defence, %s special attack, %s special defence, and %s speed has a predicted type of:\" % (hp, atk, defe, spatk, spdefe, speed))\n",
    "print(typenumbers[predictedtype[0]])\n",
    "\n",
    "# this is so swag, like blissey and snorlax have high hp and also like slaking and likitung and it knows that i think!!!\n",
    "\n",
    "#(results)A pokemon with 500 hp, 10 attack, 10 defence, 10 special attack, 10 special defence, and 10 speed has a predicted type of:\n",
    "#Normal\n",
    "\n",
    "# thank you for coming to my ted talk\n",
    "#\n",
    "# im so sleepy zzzzzzzzzzzzzzzzzzzzzzzzzzzzzzzzzzzzzzzzzzzzzzzzzzzzzzzzzzzzzzzzzzzzzzzzzzzzzzzzzzzzzzzzzzzzzzzzzzzzzzzzzzzzzz\n",
    "# my brain feels like its melting \n",
    "# \n"
   ]
  }
 ],
 "metadata": {
  "kernelspec": {
   "display_name": "Python 3",
   "language": "python",
   "name": "python3"
  },
  "language_info": {
   "codemirror_mode": {
    "name": "ipython",
    "version": 3
   },
   "file_extension": ".py",
   "mimetype": "text/x-python",
   "name": "python",
   "nbconvert_exporter": "python",
   "pygments_lexer": "ipython3",
   "version": "3.12.0"
  },
  "orig_nbformat": 4
 },
 "nbformat": 4,
 "nbformat_minor": 2
}
